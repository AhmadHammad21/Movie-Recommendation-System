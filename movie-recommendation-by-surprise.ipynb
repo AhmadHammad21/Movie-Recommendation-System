{
 "cells": [
  {
   "cell_type": "markdown",
   "id": "7342a2af",
   "metadata": {
    "papermill": {
     "duration": 0.00561,
     "end_time": "2023-06-16T08:06:14.925787",
     "exception": false,
     "start_time": "2023-06-16T08:06:14.920177",
     "status": "completed"
    },
    "tags": []
   },
   "source": [
    "# Movie Recommendation by Surprise"
   ]
  },
  {
   "cell_type": "markdown",
   "id": "1f5c5258",
   "metadata": {
    "papermill": {
     "duration": 0.004882,
     "end_time": "2023-06-16T08:06:14.936306",
     "exception": false,
     "start_time": "2023-06-16T08:06:14.931424",
     "status": "completed"
    },
    "tags": []
   },
   "source": [
    "## Matrix Factorization method for Collaborative Filtering\n",
    "Matrix Factorization is a popular technique used in collaborative filtering to predict user-item ratings based on the previous ratings given by users. Collaborative Filtering is a type of recommendation system that relies on the past behavior of similar users/items to make recommendations.\n",
    "\n",
    "Matrix Factorization is based on the idea of decomposing the user-item rating matrix into two lower-dimensional matrices: one representing users and the other representing items. The lower-dimensional representation captures the latent factors or features that influence a user's preference for an item. The factors may include, for example, the genre of the movie, the director, the actors, or the user's age, gender, etc.\n"
   ]
  },
  {
   "cell_type": "markdown",
   "metadata": {},
   "source": [
    "- Data: [Link](https://www.kaggle.com/datasets/parasharmanas/movie-recommendation-system/data)"
   ]
  },
  {
   "cell_type": "code",
   "execution_count": 25,
   "id": "b2ef6419",
   "metadata": {
    "execution": {
     "iopub.execute_input": "2023-06-16T08:06:14.949053Z",
     "iopub.status.busy": "2023-06-16T08:06:14.948463Z",
     "iopub.status.idle": "2023-06-16T08:06:16.540971Z",
     "shell.execute_reply": "2023-06-16T08:06:16.539949Z"
    },
    "papermill": {
     "duration": 1.602195,
     "end_time": "2023-06-16T08:06:16.543708",
     "exception": false,
     "start_time": "2023-06-16T08:06:14.941513",
     "status": "completed"
    },
    "tags": []
   },
   "outputs": [],
   "source": [
    "from surprise import Dataset, Reader\n",
    "from surprise import KNNBasic\n",
    "from surprise.model_selection import train_test_split\n",
    "from surprise import accuracy\n",
    "from surprise.dataset import DatasetAutoFolds\n",
    "import matplotlib.pyplot as plt\n",
    "import seaborn as sns\n",
    "import pandas as pd\n",
    "import operator"
   ]
  },
  {
   "cell_type": "code",
   "execution_count": 3,
   "id": "bcca67be",
   "metadata": {
    "execution": {
     "iopub.execute_input": "2023-06-16T08:06:16.555631Z",
     "iopub.status.busy": "2023-06-16T08:06:16.555248Z",
     "iopub.status.idle": "2023-06-16T08:06:33.251356Z",
     "shell.execute_reply": "2023-06-16T08:06:33.249994Z"
    },
    "papermill": {
     "duration": 16.704911,
     "end_time": "2023-06-16T08:06:33.253795",
     "exception": false,
     "start_time": "2023-06-16T08:06:16.548884",
     "status": "completed"
    },
    "tags": []
   },
   "outputs": [
    {
     "name": "stdout",
     "output_type": "stream",
     "text": [
      "25000095\n"
     ]
    }
   ],
   "source": [
    "df = pd.read_csv('./data/ratings.csv')\n",
    "print(len(df))"
   ]
  },
  {
   "cell_type": "code",
   "execution_count": 22,
   "metadata": {},
   "outputs": [
    {
     "data": {
      "text/html": [
       "<div>\n",
       "<style scoped>\n",
       "    .dataframe tbody tr th:only-of-type {\n",
       "        vertical-align: middle;\n",
       "    }\n",
       "\n",
       "    .dataframe tbody tr th {\n",
       "        vertical-align: top;\n",
       "    }\n",
       "\n",
       "    .dataframe thead th {\n",
       "        text-align: right;\n",
       "    }\n",
       "</style>\n",
       "<table border=\"1\" class=\"dataframe\">\n",
       "  <thead>\n",
       "    <tr style=\"text-align: right;\">\n",
       "      <th></th>\n",
       "      <th>userId</th>\n",
       "      <th>movieId</th>\n",
       "      <th>rating</th>\n",
       "      <th>timestamp</th>\n",
       "    </tr>\n",
       "  </thead>\n",
       "  <tbody>\n",
       "    <tr>\n",
       "      <th>0</th>\n",
       "      <td>1</td>\n",
       "      <td>296</td>\n",
       "      <td>5.0</td>\n",
       "      <td>1147880044</td>\n",
       "    </tr>\n",
       "    <tr>\n",
       "      <th>1</th>\n",
       "      <td>1</td>\n",
       "      <td>306</td>\n",
       "      <td>3.5</td>\n",
       "      <td>1147868817</td>\n",
       "    </tr>\n",
       "    <tr>\n",
       "      <th>2</th>\n",
       "      <td>1</td>\n",
       "      <td>307</td>\n",
       "      <td>5.0</td>\n",
       "      <td>1147868828</td>\n",
       "    </tr>\n",
       "    <tr>\n",
       "      <th>3</th>\n",
       "      <td>1</td>\n",
       "      <td>665</td>\n",
       "      <td>5.0</td>\n",
       "      <td>1147878820</td>\n",
       "    </tr>\n",
       "  </tbody>\n",
       "</table>\n",
       "</div>"
      ],
      "text/plain": [
       "   userId  movieId  rating   timestamp\n",
       "0       1      296     5.0  1147880044\n",
       "1       1      306     3.5  1147868817\n",
       "2       1      307     5.0  1147868828\n",
       "3       1      665     5.0  1147878820"
      ]
     },
     "execution_count": 22,
     "metadata": {},
     "output_type": "execute_result"
    }
   ],
   "source": [
    "df.head(4)"
   ]
  },
  {
   "cell_type": "code",
   "execution_count": 4,
   "id": "9ea6357a",
   "metadata": {
    "execution": {
     "iopub.execute_input": "2023-06-16T08:06:33.266783Z",
     "iopub.status.busy": "2023-06-16T08:06:33.265699Z",
     "iopub.status.idle": "2023-06-16T08:06:33.271218Z",
     "shell.execute_reply": "2023-06-16T08:06:33.270144Z"
    },
    "papermill": {
     "duration": 0.014378,
     "end_time": "2023-06-16T08:06:33.273588",
     "exception": false,
     "start_time": "2023-06-16T08:06:33.259210",
     "status": "completed"
    },
    "tags": []
   },
   "outputs": [],
   "source": [
    "df=df[0:20000]"
   ]
  },
  {
   "cell_type": "code",
   "execution_count": 5,
   "metadata": {},
   "outputs": [
    {
     "data": {
      "text/plain": [
       "20000"
      ]
     },
     "execution_count": 5,
     "metadata": {},
     "output_type": "execute_result"
    }
   ],
   "source": [
    "len(df)"
   ]
  },
  {
   "cell_type": "code",
   "execution_count": 6,
   "id": "61a9b8d2",
   "metadata": {
    "execution": {
     "iopub.execute_input": "2023-06-16T08:06:33.287929Z",
     "iopub.status.busy": "2023-06-16T08:06:33.287173Z",
     "iopub.status.idle": "2023-06-16T08:06:33.332152Z",
     "shell.execute_reply": "2023-06-16T08:06:33.330846Z"
    },
    "papermill": {
     "duration": 0.053998,
     "end_time": "2023-06-16T08:06:33.334667",
     "exception": false,
     "start_time": "2023-06-16T08:06:33.280669",
     "status": "completed"
    },
    "tags": []
   },
   "outputs": [
    {
     "name": "stdout",
     "output_type": "stream",
     "text": [
      "<class 'surprise.dataset.DatasetAutoFolds'>\n"
     ]
    }
   ],
   "source": [
    "reader = Reader(rating_scale=(1,5))\n",
    "data = Dataset.load_from_df(df[['userId','movieId','rating']], reader)\n",
    "print(type(data))"
   ]
  },
  {
   "cell_type": "code",
   "execution_count": 7,
   "id": "0b1f9959",
   "metadata": {
    "execution": {
     "iopub.execute_input": "2023-06-16T08:06:33.359387Z",
     "iopub.status.busy": "2023-06-16T08:06:33.358072Z",
     "iopub.status.idle": "2023-06-16T08:06:33.401874Z",
     "shell.execute_reply": "2023-06-16T08:06:33.400573Z"
    },
    "papermill": {
     "duration": 0.053604,
     "end_time": "2023-06-16T08:06:33.404713",
     "exception": false,
     "start_time": "2023-06-16T08:06:33.351109",
     "status": "completed"
    },
    "tags": []
   },
   "outputs": [
    {
     "name": "stdout",
     "output_type": "stream",
     "text": [
      "<class 'surprise.trainset.Trainset'>\n"
     ]
    }
   ],
   "source": [
    "# Split the data into training and testing sets\n",
    "trainset, testset = train_test_split(data, test_size=0.25)\n",
    "print(type(trainset))"
   ]
  },
  {
   "cell_type": "code",
   "execution_count": 23,
   "id": "a224d1e3",
   "metadata": {
    "execution": {
     "iopub.execute_input": "2023-06-16T08:06:33.417580Z",
     "iopub.status.busy": "2023-06-16T08:06:33.417172Z",
     "iopub.status.idle": "2023-06-16T08:06:33.424356Z",
     "shell.execute_reply": "2023-06-16T08:06:33.423227Z"
    },
    "papermill": {
     "duration": 0.016417,
     "end_time": "2023-06-16T08:06:33.426688",
     "exception": false,
     "start_time": "2023-06-16T08:06:33.410271",
     "status": "completed"
    },
    "tags": []
   },
   "outputs": [
    {
     "name": "stdout",
     "output_type": "stream",
     "text": [
      "User 0 rated item 0 with a rating of 3.0\n",
      "User 0 rated item 18 with a rating of 5.0\n",
      "User 0 rated item 28 with a rating of 4.0\n",
      "User 0 rated item 68 with a rating of 4.0\n",
      "User 0 rated item 84 with a rating of 4.0\n",
      "\n",
      "User 3 rated item 4027 with a rating of 4.5\n",
      "User 3 rated item 6333 with a rating of 4.0\n",
      "User 80 rated item 2058 with a rating of 4.0\n",
      "User 8 rated item 1 with a rating of 4.0\n",
      "User 80 rated item 3948 with a rating of 5.0\n",
      "\n",
      "15000 5000\n"
     ]
    }
   ],
   "source": [
    "import itertools\n",
    "\n",
    "for uid, iid, rating in itertools.islice(trainset.all_ratings(), 5):\n",
    "    print(f\"User {uid} rated item {iid} with a rating of {rating}\")\n",
    "\n",
    "print()\n",
    "for uid, iid, rating in testset[:5]:\n",
    "    print(f\"User {uid} rated item {iid} with a rating of {rating}\")\n",
    "    \n",
    "print()    \n",
    "print(trainset.n_ratings,len(testset))"
   ]
  },
  {
   "cell_type": "markdown",
   "id": "0371e4b5",
   "metadata": {
    "papermill": {
     "duration": 0.005231,
     "end_time": "2023-06-16T08:06:33.437593",
     "exception": false,
     "start_time": "2023-06-16T08:06:33.432362",
     "status": "completed"
    },
    "tags": []
   },
   "source": [
    "## KNNBasic\n",
    "KNNBasic is one of the algorithms for making recommendations based on collaborative filtering in the Surprise library. KNN stands for k-nearest neighbors, and this algorithm makes recommendations by finding a set of similar items or users in close proximity and predicting ratings based on them."
   ]
  },
  {
   "cell_type": "code",
   "execution_count": 9,
   "id": "79fcf1fc",
   "metadata": {
    "execution": {
     "iopub.execute_input": "2023-06-16T08:06:33.450777Z",
     "iopub.status.busy": "2023-06-16T08:06:33.450122Z",
     "iopub.status.idle": "2023-06-16T08:06:36.595412Z",
     "shell.execute_reply": "2023-06-16T08:06:36.594303Z"
    },
    "papermill": {
     "duration": 3.156432,
     "end_time": "2023-06-16T08:06:36.599366",
     "exception": false,
     "start_time": "2023-06-16T08:06:33.442934",
     "status": "completed"
    },
    "tags": []
   },
   "outputs": [
    {
     "name": "stdout",
     "output_type": "stream",
     "text": [
      "Computing the msd similarity matrix...\n",
      "Done computing similarity matrix.\n"
     ]
    },
    {
     "data": {
      "text/plain": [
       "<surprise.prediction_algorithms.knns.KNNBasic at 0x1adb32cae90>"
      ]
     },
     "execution_count": 9,
     "metadata": {},
     "output_type": "execute_result"
    }
   ],
   "source": [
    "# Use the KNNBasic algorithm to train the model\n",
    "algo = KNNBasic()\n",
    "algo.fit(trainset)"
   ]
  },
  {
   "cell_type": "code",
   "execution_count": 10,
   "id": "c2bc7ec2",
   "metadata": {
    "execution": {
     "iopub.execute_input": "2023-06-16T08:06:36.612865Z",
     "iopub.status.busy": "2023-06-16T08:06:36.612116Z",
     "iopub.status.idle": "2023-06-16T08:06:36.674375Z",
     "shell.execute_reply": "2023-06-16T08:06:36.673326Z"
    },
    "papermill": {
     "duration": 0.071673,
     "end_time": "2023-06-16T08:06:36.676858",
     "exception": false,
     "start_time": "2023-06-16T08:06:36.605185",
     "status": "completed"
    },
    "tags": []
   },
   "outputs": [],
   "source": [
    "# Test the model on the testing set\n",
    "predictions = algo.test(testset)"
   ]
  },
  {
   "cell_type": "code",
   "execution_count": 11,
   "id": "a753af03",
   "metadata": {
    "execution": {
     "iopub.execute_input": "2023-06-16T08:06:36.690299Z",
     "iopub.status.busy": "2023-06-16T08:06:36.689907Z",
     "iopub.status.idle": "2023-06-16T08:06:36.695678Z",
     "shell.execute_reply": "2023-06-16T08:06:36.694666Z"
    },
    "papermill": {
     "duration": 0.015384,
     "end_time": "2023-06-16T08:06:36.698016",
     "exception": false,
     "start_time": "2023-06-16T08:06:36.682632",
     "status": "completed"
    },
    "tags": []
   },
   "outputs": [
    {
     "name": "stdout",
     "output_type": "stream",
     "text": [
      "User 3 rated item 4027 with a rating of 4.5\n",
      "User 3 rated item 6333 with a rating of 4.0\n",
      "User 80 rated item 2058 with a rating of 4.0\n",
      "User 8 rated item 1 with a rating of 4.0\n",
      "User 80 rated item 3948 with a rating of 5.0\n"
     ]
    }
   ],
   "source": [
    "for uid, iid, rating in testset[:5]:\n",
    "    print(f\"User {uid} rated item {iid} with a rating of {rating}\")"
   ]
  },
  {
   "cell_type": "markdown",
   "id": "f3ed57e3",
   "metadata": {
    "papermill": {
     "duration": 0.005697,
     "end_time": "2023-06-16T08:06:36.709834",
     "exception": false,
     "start_time": "2023-06-16T08:06:36.704137",
     "status": "completed"
    },
    "tags": []
   },
   "source": [
    "The 'predictions' is a list of tuples of the form (user, item, actual_rating, predicted_rating, details). The predicted_rating is est value."
   ]
  },
  {
   "cell_type": "code",
   "execution_count": 12,
   "id": "685ffe09",
   "metadata": {
    "execution": {
     "iopub.execute_input": "2023-06-16T08:06:36.723071Z",
     "iopub.status.busy": "2023-06-16T08:06:36.722698Z",
     "iopub.status.idle": "2023-06-16T08:06:36.728608Z",
     "shell.execute_reply": "2023-06-16T08:06:36.727433Z"
    },
    "papermill": {
     "duration": 0.015469,
     "end_time": "2023-06-16T08:06:36.731110",
     "exception": false,
     "start_time": "2023-06-16T08:06:36.715641",
     "status": "completed"
    },
    "tags": []
   },
   "outputs": [
    {
     "name": "stdout",
     "output_type": "stream",
     "text": [
      "user: 3          item: 4027       r_ui = 4.50   est = 4.13   {'actual_k': 14, 'was_impossible': False}\n",
      "user: 3          item: 6333       r_ui = 4.00   est = 3.49   {'actual_k': 12, 'was_impossible': False}\n",
      "user: 80         item: 2058       r_ui = 4.00   est = 3.72   {'actual_k': 4, 'was_impossible': False}\n",
      "user: 8          item: 1          r_ui = 4.00   est = 3.96   {'actual_k': 34, 'was_impossible': False}\n",
      "user: 80         item: 3948       r_ui = 5.00   est = 3.15   {'actual_k': 13, 'was_impossible': False}\n"
     ]
    }
   ],
   "source": [
    "for prediction in predictions[0:5]:\n",
    "    print(prediction)"
   ]
  },
  {
   "cell_type": "code",
   "execution_count": 13,
   "id": "b44395df",
   "metadata": {
    "execution": {
     "iopub.execute_input": "2023-06-16T08:06:36.745112Z",
     "iopub.status.busy": "2023-06-16T08:06:36.744247Z",
     "iopub.status.idle": "2023-06-16T08:06:36.755229Z",
     "shell.execute_reply": "2023-06-16T08:06:36.754119Z"
    },
    "papermill": {
     "duration": 0.020357,
     "end_time": "2023-06-16T08:06:36.757396",
     "exception": false,
     "start_time": "2023-06-16T08:06:36.737039",
     "status": "completed"
    },
    "tags": []
   },
   "outputs": [
    {
     "name": "stdout",
     "output_type": "stream",
     "text": [
      "RMSE: 0.9917\n"
     ]
    },
    {
     "data": {
      "text/plain": [
       "0.9916755372534861"
      ]
     },
     "execution_count": 13,
     "metadata": {},
     "output_type": "execute_result"
    }
   ],
   "source": [
    "# Print the performance metrics\n",
    "accuracy.rmse(predictions)"
   ]
  },
  {
   "cell_type": "code",
   "execution_count": 14,
   "id": "f0046a28",
   "metadata": {
    "execution": {
     "iopub.execute_input": "2023-06-16T08:06:36.771964Z",
     "iopub.status.busy": "2023-06-16T08:06:36.771599Z",
     "iopub.status.idle": "2023-06-16T08:06:36.778518Z",
     "shell.execute_reply": "2023-06-16T08:06:36.777483Z"
    },
    "papermill": {
     "duration": 0.016969,
     "end_time": "2023-06-16T08:06:36.780640",
     "exception": false,
     "start_time": "2023-06-16T08:06:36.763671",
     "status": "completed"
    },
    "tags": []
   },
   "outputs": [],
   "source": [
    "true_ratings = [pred.r_ui for pred in predictions]\n",
    "est_ratings = [pred.est for pred in predictions]\n",
    "uids = [pred.uid for pred in predictions]"
   ]
  },
  {
   "cell_type": "code",
   "execution_count": 15,
   "id": "6008596f",
   "metadata": {
    "execution": {
     "iopub.execute_input": "2023-06-16T08:06:36.794716Z",
     "iopub.status.busy": "2023-06-16T08:06:36.794341Z",
     "iopub.status.idle": "2023-06-16T08:06:41.622448Z",
     "shell.execute_reply": "2023-06-16T08:06:41.621184Z"
    },
    "papermill": {
     "duration": 4.838381,
     "end_time": "2023-06-16T08:06:41.625160",
     "exception": false,
     "start_time": "2023-06-16T08:06:36.786779",
     "status": "completed"
    },
    "tags": []
   },
   "outputs": [
    {
     "data": {
      "image/png": "[encoded data removed]",
      "text/plain": [
       "<Figure size 600x600 with 3 Axes>"
      ]
     },
     "metadata": {},
     "output_type": "display_data"
    }
   ],
   "source": [
    "data=pd.DataFrame(columns=[\"true\",\"predicted\"])\n",
    "data[\"true\"]=true_ratings\n",
    "data[\"predicted\"]=est_ratings\n",
    "g = sns.jointplot(data=data,x=\"true\", y=\"predicted\", kind=\"kde\",)\n",
    "g.fig.suptitle('Test predictions',fontsize=12)\n",
    "plt.show()"
   ]
  },
  {
   "cell_type": "markdown",
   "id": "c00a76fb",
   "metadata": {
    "papermill": {
     "duration": 0.006492,
     "end_time": "2023-06-16T08:06:41.638411",
     "exception": false,
     "start_time": "2023-06-16T08:06:41.631919",
     "status": "completed"
    },
    "tags": []
   },
   "source": [
    "# Recommend unseen movies for test set users"
   ]
  },
  {
   "cell_type": "code",
   "execution_count": 16,
   "id": "6c2b2758",
   "metadata": {
    "execution": {
     "iopub.execute_input": "2023-06-16T08:06:41.653264Z",
     "iopub.status.busy": "2023-06-16T08:06:41.652842Z",
     "iopub.status.idle": "2023-06-16T08:06:41.842021Z",
     "shell.execute_reply": "2023-06-16T08:06:41.840813Z"
    },
    "papermill": {
     "duration": 0.199699,
     "end_time": "2023-06-16T08:06:41.844621",
     "exception": false,
     "start_time": "2023-06-16T08:06:41.644922",
     "status": "completed"
    },
    "tags": []
   },
   "outputs": [],
   "source": [
    "movies=pd.read_csv('./data/movies.csv')\n",
    "mapping = movies.set_index(\"movieId\")[\"title\"].to_dict()"
   ]
  },
  {
   "cell_type": "code",
   "execution_count": 17,
   "id": "85fe3ceb",
   "metadata": {
    "execution": {
     "iopub.execute_input": "2023-06-16T08:06:41.859562Z",
     "iopub.status.busy": "2023-06-16T08:06:41.859171Z",
     "iopub.status.idle": "2023-06-16T08:06:41.865416Z",
     "shell.execute_reply": "2023-06-16T08:06:41.864122Z"
    },
    "papermill": {
     "duration": 0.016512,
     "end_time": "2023-06-16T08:06:41.867782",
     "exception": false,
     "start_time": "2023-06-16T08:06:41.851270",
     "status": "completed"
    },
    "tags": []
   },
   "outputs": [],
   "source": [
    "users=list(set(uids))"
   ]
  },
  {
   "cell_type": "code",
   "execution_count": 29,
   "metadata": {},
   "outputs": [
    {
     "data": {
      "text/plain": [
       "range(0, 166)"
      ]
     },
     "execution_count": 29,
     "metadata": {},
     "output_type": "execute_result"
    }
   ],
   "source": [
    "trainset.all_users()"
   ]
  },
  {
   "cell_type": "code",
   "execution_count": 18,
   "id": "4c589b5e",
   "metadata": {
    "execution": {
     "iopub.execute_input": "2023-06-16T08:06:41.884167Z",
     "iopub.status.busy": "2023-06-16T08:06:41.883313Z",
     "iopub.status.idle": "2023-06-16T08:10:15.299254Z",
     "shell.execute_reply": "2023-06-16T08:10:15.297896Z"
    },
    "papermill": {
     "duration": 213.426945,
     "end_time": "2023-06-16T08:10:15.301775",
     "exception": false,
     "start_time": "2023-06-16T08:06:41.874830",
     "status": "completed"
    },
    "tags": []
   },
   "outputs": [
    {
     "name": "stdout",
     "output_type": "stream",
     "text": [
      "For User 1, Recommendations:\n",
      "  American Dream (1990) : Estimated rating 5\n",
      "  Speechless (1994) : Estimated rating 5\n",
      "  Abbott and Costello Meet Frankenstein (1948) : Estimated rating 5\n",
      "  Vampire Academy (2014) : Estimated rating 5\n",
      "  War of the Worlds, The (1953) : Estimated rating 5\n",
      "For User 2, Recommendations:\n",
      "  American Dream (1990) : Estimated rating 5\n",
      "  Abbott and Costello Meet Frankenstein (1948) : Estimated rating 5\n",
      "  Vampire Academy (2014) : Estimated rating 5\n",
      "  Shenandoah (1965) : Estimated rating 5\n",
      "  Sweet Red Bean Paste (2015) : Estimated rating 5\n",
      "For User 3, Recommendations:\n",
      "  American Dream (1990) : Estimated rating 5\n",
      "  Abbott and Costello Meet Frankenstein (1948) : Estimated rating 5\n",
      "  Vampire Academy (2014) : Estimated rating 5\n",
      "  Shenandoah (1965) : Estimated rating 5\n",
      "  Sweet Red Bean Paste (2015) : Estimated rating 5\n",
      "For User 4, Recommendations:\n",
      "  American Dream (1990) : Estimated rating 5\n",
      "  Abbott and Costello Meet Frankenstein (1948) : Estimated rating 5\n",
      "  Vampire Academy (2014) : Estimated rating 5\n",
      "  Shenandoah (1965) : Estimated rating 5\n",
      "  Sweet Red Bean Paste (2015) : Estimated rating 5\n",
      "For User 5, Recommendations:\n",
      "  American Dream (1990) : Estimated rating 5\n",
      "  Abbott and Costello Meet Frankenstein (1948) : Estimated rating 5\n",
      "  Vampire Academy (2014) : Estimated rating 5\n",
      "  Shenandoah (1965) : Estimated rating 5\n",
      "  Sweet Red Bean Paste (2015) : Estimated rating 5\n",
      "For User 6, Recommendations:\n",
      "  American Dream (1990) : Estimated rating 5\n",
      "  Abbott and Costello Meet Frankenstein (1948) : Estimated rating 5\n",
      "  Sweet Red Bean Paste (2015) : Estimated rating 5\n",
      "  Dawn of the Planet of the Apes (2014) : Estimated rating 5\n",
      "  Room, The (2003) : Estimated rating 5\n",
      "For User 7, Recommendations:\n",
      "  American Dream (1990) : Estimated rating 5\n",
      "  Abbott and Costello Meet Frankenstein (1948) : Estimated rating 5\n",
      "  Vampire Academy (2014) : Estimated rating 5\n",
      "  Sweet Red Bean Paste (2015) : Estimated rating 5\n",
      "  Dawn of the Planet of the Apes (2014) : Estimated rating 5\n",
      "For User 8, Recommendations:\n",
      "  American Dream (1990) : Estimated rating 5\n",
      "  Abbott and Costello Meet Frankenstein (1948) : Estimated rating 5\n",
      "  Vampire Academy (2014) : Estimated rating 5\n",
      "  Shenandoah (1965) : Estimated rating 5\n",
      "  Sweet Red Bean Paste (2015) : Estimated rating 5\n",
      "For User 9, Recommendations:\n",
      "  American Dream (1990) : Estimated rating 5\n",
      "  Abbott and Costello Meet Frankenstein (1948) : Estimated rating 5\n",
      "  Vampire Academy (2014) : Estimated rating 5\n",
      "  Shenandoah (1965) : Estimated rating 5\n",
      "  Sweet Red Bean Paste (2015) : Estimated rating 5\n",
      "For User 10, Recommendations:\n",
      "  American Dream (1990) : Estimated rating 5\n",
      "  Vampire Academy (2014) : Estimated rating 5\n",
      "  Sweet Red Bean Paste (2015) : Estimated rating 5\n",
      "  Dawn of the Planet of the Apes (2014) : Estimated rating 5\n",
      "  Room, The (2003) : Estimated rating 5\n",
      "For User 11, Recommendations:\n",
      "  American Dream (1990) : Estimated rating 5\n",
      "  48 Hrs. (1982) : Estimated rating 5\n",
      "  Abbott and Costello Meet Frankenstein (1948) : Estimated rating 5\n",
      "  Vampire Academy (2014) : Estimated rating 5\n",
      "  Sweet Red Bean Paste (2015) : Estimated rating 5\n",
      "For User 12, Recommendations:\n",
      "  American Dream (1990) : Estimated rating 5\n",
      "  Abbott and Costello Meet Frankenstein (1948) : Estimated rating 5\n",
      "  Vampire Academy (2014) : Estimated rating 5\n",
      "  Shenandoah (1965) : Estimated rating 5\n",
      "  Sweet Red Bean Paste (2015) : Estimated rating 5\n",
      "For User 13, Recommendations:\n",
      "  American Dream (1990) : Estimated rating 5\n",
      "  Abbott and Costello Meet Frankenstein (1948) : Estimated rating 5\n",
      "  Vampire Academy (2014) : Estimated rating 5\n",
      "  Shenandoah (1965) : Estimated rating 5\n",
      "  Sweet Red Bean Paste (2015) : Estimated rating 5\n",
      "For User 14, Recommendations:\n",
      "  American Dream (1990) : Estimated rating 5\n",
      "  Speechless (1994) : Estimated rating 5\n",
      "  Vampire Academy (2014) : Estimated rating 5\n",
      "  War of the Worlds, The (1953) : Estimated rating 5\n",
      "  Sweet Red Bean Paste (2015) : Estimated rating 5\n",
      "For User 15, Recommendations:\n",
      "  American Dream (1990) : Estimated rating 5\n",
      "  Abbott and Costello Meet Frankenstein (1948) : Estimated rating 5\n",
      "  Vampire Academy (2014) : Estimated rating 5\n",
      "  Shenandoah (1965) : Estimated rating 5\n",
      "  Sweet Red Bean Paste (2015) : Estimated rating 5\n",
      "For User 16, Recommendations:\n",
      "  American Dream (1990) : Estimated rating 5\n",
      "  Vampire Academy (2014) : Estimated rating 5\n",
      "  Sweet Red Bean Paste (2015) : Estimated rating 5\n",
      "  Room, The (2003) : Estimated rating 5\n",
      "  Unvanquished, The (Aparajito) (1957) : Estimated rating 5\n",
      "For User 17, Recommendations:\n",
      "  True Romance (1993) : Estimated rating 5\n",
      "  American Dream (1990) : Estimated rating 5\n",
      "  Crumb (1994) : Estimated rating 5\n",
      "  Vampire Academy (2014) : Estimated rating 5\n",
      "  Mighty Aphrodite (1995) : Estimated rating 5\n",
      "For User 18, Recommendations:\n",
      "  American Dream (1990) : Estimated rating 5\n",
      "  Abbott and Costello Meet Frankenstein (1948) : Estimated rating 5\n",
      "  Vampire Academy (2014) : Estimated rating 5\n",
      "  Shenandoah (1965) : Estimated rating 5\n",
      "  Sweet Red Bean Paste (2015) : Estimated rating 5\n",
      "For User 19, Recommendations:\n",
      "  American Dream (1990) : Estimated rating 5\n",
      "  Abbott and Costello Meet Frankenstein (1948) : Estimated rating 5\n",
      "  Vampire Academy (2014) : Estimated rating 5\n",
      "  Shenandoah (1965) : Estimated rating 5\n",
      "  Room, The (2003) : Estimated rating 5\n",
      "For User 20, Recommendations:\n",
      "  American Dream (1990) : Estimated rating 5\n",
      "  Abbott and Costello Meet Frankenstein (1948) : Estimated rating 5\n",
      "  Vampire Academy (2014) : Estimated rating 5\n",
      "  Shenandoah (1965) : Estimated rating 5\n",
      "  Sweet Red Bean Paste (2015) : Estimated rating 5\n",
      "For User 21, Recommendations:\n",
      "  American Dream (1990) : Estimated rating 5\n",
      "  Vampire Academy (2014) : Estimated rating 5\n",
      "  Shenandoah (1965) : Estimated rating 5\n",
      "  Sweet Red Bean Paste (2015) : Estimated rating 5\n",
      "  Room, The (2003) : Estimated rating 5\n",
      "For User 22, Recommendations:\n",
      "  American Dream (1990) : Estimated rating 5\n",
      "  Abbott and Costello Meet Frankenstein (1948) : Estimated rating 5\n",
      "  Vampire Academy (2014) : Estimated rating 5\n",
      "  Shenandoah (1965) : Estimated rating 5\n",
      "  Sweet Red Bean Paste (2015) : Estimated rating 5\n",
      "For User 23, Recommendations:\n",
      "  American Dream (1990) : Estimated rating 5\n",
      "  Abbott and Costello Meet Frankenstein (1948) : Estimated rating 5\n",
      "  Vampire Academy (2014) : Estimated rating 5\n",
      "  Shenandoah (1965) : Estimated rating 5\n",
      "  Sweet Red Bean Paste (2015) : Estimated rating 5\n",
      "For User 24, Recommendations:\n",
      "  American Dream (1990) : Estimated rating 5\n",
      "  Sweet Red Bean Paste (2015) : Estimated rating 5\n",
      "  Room, The (2003) : Estimated rating 5\n",
      "  Unvanquished, The (Aparajito) (1957) : Estimated rating 5\n",
      "  RoboCop 3 (1993) : Estimated rating 5\n",
      "For User 25, Recommendations:\n",
      "  American Dream (1990) : Estimated rating 5\n",
      "  Abbott and Costello Meet Frankenstein (1948) : Estimated rating 5\n",
      "  Vampire Academy (2014) : Estimated rating 5\n",
      "  Shenandoah (1965) : Estimated rating 5\n",
      "  Sweet Red Bean Paste (2015) : Estimated rating 5\n",
      "For User 26, Recommendations:\n",
      "  American Dream (1990) : Estimated rating 5\n",
      "  Vampire Academy (2014) : Estimated rating 5\n",
      "  Shenandoah (1965) : Estimated rating 5\n",
      "  Sweet Red Bean Paste (2015) : Estimated rating 5\n",
      "  Room, The (2003) : Estimated rating 5\n",
      "For User 27, Recommendations:\n",
      "  American Dream (1990) : Estimated rating 5\n",
      "  Abbott and Costello Meet Frankenstein (1948) : Estimated rating 5\n",
      "  Shenandoah (1965) : Estimated rating 5\n",
      "  Sweet Red Bean Paste (2015) : Estimated rating 5\n",
      "  Room, The (2003) : Estimated rating 5\n",
      "For User 28, Recommendations:\n",
      "  American Dream (1990) : Estimated rating 5\n",
      "  Shenandoah (1965) : Estimated rating 5\n",
      "  Sweet Red Bean Paste (2015) : Estimated rating 5\n",
      "  Room, The (2003) : Estimated rating 5\n",
      "  RoboCop 3 (1993) : Estimated rating 5\n",
      "For User 29, Recommendations:\n",
      "  American Dream (1990) : Estimated rating 5\n",
      "  Thirteenth Floor, The (1999) : Estimated rating 5\n",
      "  Like Water for Chocolate (Como agua para chocolate) (1992) : Estimated rating 5\n",
      "  Paprika (Papurika) (2006) : Estimated rating 5\n",
      "  Crumb (1994) : Estimated rating 5\n",
      "For User 30, Recommendations:\n",
      "  American Dream (1990) : Estimated rating 5\n",
      "  48 Hrs. (1982) : Estimated rating 5\n",
      "  Abbott and Costello Meet Frankenstein (1948) : Estimated rating 5\n",
      "  Crumb (1994) : Estimated rating 5\n",
      "  Vampire Academy (2014) : Estimated rating 5\n"
     ]
    }
   ],
   "source": [
    "# items which the user not yet evaluate\n",
    "items = trainset.build_anti_testset()\n",
    "for user in users[0:30]:\n",
    "    user_items = list(filter(lambda x: x[0] == user, items))\n",
    "    #print(user,len(user_items))\n",
    "    # generate recommendation\n",
    "    recommendations = algo.test(user_items)\n",
    "    if len(recommendations)>0:\n",
    "        recommendations.sort(key=operator.itemgetter(3), reverse=True)\n",
    "        print(f\"For User {user}, Recommendations:\")\n",
    "        for r in recommendations[0:5]:\n",
    "            print(f\"  {mapping[r[1]]} : Estimated rating {round(r[3],4)}\")"
   ]
  },
  {
   "cell_type": "code",
   "execution_count": null,
   "metadata": {},
   "outputs": [],
   "source": []
  }
 ],
 "metadata": {
  "kernelspec": {
   "display_name": "Python 3",
   "language": "python",
   "name": "python3"
  },
  "language_info": {
   "codemirror_mode": {
    "name": "ipython",
    "version": 3
   },
   "file_extension": ".py",
   "mimetype": "text/x-python",
   "name": "python",
   "nbconvert_exporter": "python",
   "pygments_lexer": "ipython3",
   "version": "3.10.12"
  },
  "papermill": {
   "default_parameters": {},
   "duration": 253.68747,
   "end_time": "2023-06-16T08:10:18.031892",
   "environment_variables": {},
   "exception": null,
   "input_path": "__notebook__.ipynb",
   "output_path": "__notebook__.ipynb",
   "parameters": {},
   "start_time": "2023-06-16T08:06:04.344422",
   "version": "2.4.0"
  }
 },
 "nbformat": 4,
 "nbformat_minor": 5
}
